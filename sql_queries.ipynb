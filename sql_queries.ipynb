{
 "metadata": {
  "language_info": {
   "codemirror_mode": {
    "name": "ipython",
    "version": 3
   },
   "file_extension": ".py",
   "mimetype": "text/x-python",
   "name": "python",
   "nbconvert_exporter": "python",
   "pygments_lexer": "ipython3",
   "version": "3.8.5-final"
  },
  "orig_nbformat": 2,
  "kernelspec": {
   "name": "python3",
   "display_name": "Python 3",
   "language": "python"
  }
 },
 "nbformat": 4,
 "nbformat_minor": 2,
 "cells": [
  {
   "source": [
    "Importation des modules SQLite3, Pandas, des tables de la database avec les données puis connexion à la base de données"
   ],
   "cell_type": "markdown",
   "metadata": {}
  },
  {
   "cell_type": "code",
   "execution_count": 1,
   "metadata": {},
   "outputs": [],
   "source": [
    "import sqlite3\n",
    "import pandas as pd\n",
    "import tables_creation\n",
    "import datas_integration\n",
    "\n",
    "conn = sqlite3.connect('e_commerce.db')\n",
    "c = conn.cursor()"
   ]
  },
  {
   "source": [
    "Les différentes requêtes :"
   ],
   "cell_type": "markdown",
   "metadata": {}
  },
  {
   "source": [
    "Nombre total de clients"
   ],
   "cell_type": "markdown",
   "metadata": {}
  },
  {
   "cell_type": "code",
   "execution_count": 2,
   "metadata": {},
   "outputs": [
    {
     "output_type": "execute_result",
     "data": {
      "text/plain": [
       "   nombre_clients\n",
       "0           96096"
      ],
      "text/html": "<div>\n<style scoped>\n    .dataframe tbody tr th:only-of-type {\n        vertical-align: middle;\n    }\n\n    .dataframe tbody tr th {\n        vertical-align: top;\n    }\n\n    .dataframe thead th {\n        text-align: right;\n    }\n</style>\n<table border=\"1\" class=\"dataframe\">\n  <thead>\n    <tr style=\"text-align: right;\">\n      <th></th>\n      <th>nombre_clients</th>\n    </tr>\n  </thead>\n  <tbody>\n    <tr>\n      <th>0</th>\n      <td>96096</td>\n    </tr>\n  </tbody>\n</table>\n</div>"
     },
     "metadata": {},
     "execution_count": 2
    }
   ],
   "source": [
    "clients_number_query = pd.read_sql('SELECT COUNT(DISTINCT customer_unique_id) as nombre_clients FROM Customers', conn)\n",
    "clients_number_query"
   ]
  },
  {
   "source": [
    "Nombre total de produits"
   ],
   "cell_type": "markdown",
   "metadata": {}
  },
  {
   "cell_type": "code",
   "execution_count": 3,
   "metadata": {},
   "outputs": [
    {
     "output_type": "execute_result",
     "data": {
      "text/plain": [
       "   nombre_produits\n",
       "0            32951"
      ],
      "text/html": "<div>\n<style scoped>\n    .dataframe tbody tr th:only-of-type {\n        vertical-align: middle;\n    }\n\n    .dataframe tbody tr th {\n        vertical-align: top;\n    }\n\n    .dataframe thead th {\n        text-align: right;\n    }\n</style>\n<table border=\"1\" class=\"dataframe\">\n  <thead>\n    <tr style=\"text-align: right;\">\n      <th></th>\n      <th>nombre_produits</th>\n    </tr>\n  </thead>\n  <tbody>\n    <tr>\n      <th>0</th>\n      <td>32951</td>\n    </tr>\n  </tbody>\n</table>\n</div>"
     },
     "metadata": {},
     "execution_count": 3
    }
   ],
   "source": [
    "products_number_query = pd.read_sql('SELECT COUNT(product_id) as nombre_produits FROM Products', conn)\n",
    "products_number_query"
   ]
  },
  {
   "source": [
    "Nombre total de commandes"
   ],
   "cell_type": "markdown",
   "metadata": {}
  },
  {
   "cell_type": "code",
   "execution_count": 4,
   "metadata": {},
   "outputs": [
    {
     "output_type": "execute_result",
     "data": {
      "text/plain": [
       "   nombre_commandes\n",
       "0             99441"
      ],
      "text/html": "<div>\n<style scoped>\n    .dataframe tbody tr th:only-of-type {\n        vertical-align: middle;\n    }\n\n    .dataframe tbody tr th {\n        vertical-align: top;\n    }\n\n    .dataframe thead th {\n        text-align: right;\n    }\n</style>\n<table border=\"1\" class=\"dataframe\">\n  <thead>\n    <tr style=\"text-align: right;\">\n      <th></th>\n      <th>nombre_commandes</th>\n    </tr>\n  </thead>\n  <tbody>\n    <tr>\n      <th>0</th>\n      <td>99441</td>\n    </tr>\n  </tbody>\n</table>\n</div>"
     },
     "metadata": {},
     "execution_count": 4
    }
   ],
   "source": [
    "orders_number_query = pd.read_sql('SELECT COUNT(order_id) as nombre_commandes FROM Orders', conn)\n",
    "orders_number_query"
   ]
  },
  {
   "source": [
    "Nombre de produits par catégorie"
   ],
   "cell_type": "markdown",
   "metadata": {}
  },
  {
   "cell_type": "code",
   "execution_count": 5,
   "metadata": {},
   "outputs": [
    {
     "output_type": "execute_result",
     "data": {
      "text/plain": [
       "            product_category_name  nombre_produit_par_categorie\n",
       "0                 cama_mesa_banho                          3029\n",
       "1                   esporte_lazer                          2867\n",
       "2                moveis_decoracao                          2657\n",
       "3                    beleza_saude                          2444\n",
       "4           utilidades_domesticas                          2335\n",
       "..                            ...                           ...\n",
       "69  fashion_roupa_infanto_juvenil                             5\n",
       "70                casa_conforto_2                             5\n",
       "71                       pc_gamer                             3\n",
       "72             seguros_e_servicos                             2\n",
       "73              cds_dvds_musicais                             1\n",
       "\n",
       "[74 rows x 2 columns]"
      ],
      "text/html": "<div>\n<style scoped>\n    .dataframe tbody tr th:only-of-type {\n        vertical-align: middle;\n    }\n\n    .dataframe tbody tr th {\n        vertical-align: top;\n    }\n\n    .dataframe thead th {\n        text-align: right;\n    }\n</style>\n<table border=\"1\" class=\"dataframe\">\n  <thead>\n    <tr style=\"text-align: right;\">\n      <th></th>\n      <th>product_category_name</th>\n      <th>nombre_produit_par_categorie</th>\n    </tr>\n  </thead>\n  <tbody>\n    <tr>\n      <th>0</th>\n      <td>cama_mesa_banho</td>\n      <td>3029</td>\n    </tr>\n    <tr>\n      <th>1</th>\n      <td>esporte_lazer</td>\n      <td>2867</td>\n    </tr>\n    <tr>\n      <th>2</th>\n      <td>moveis_decoracao</td>\n      <td>2657</td>\n    </tr>\n    <tr>\n      <th>3</th>\n      <td>beleza_saude</td>\n      <td>2444</td>\n    </tr>\n    <tr>\n      <th>4</th>\n      <td>utilidades_domesticas</td>\n      <td>2335</td>\n    </tr>\n    <tr>\n      <th>...</th>\n      <td>...</td>\n      <td>...</td>\n    </tr>\n    <tr>\n      <th>69</th>\n      <td>fashion_roupa_infanto_juvenil</td>\n      <td>5</td>\n    </tr>\n    <tr>\n      <th>70</th>\n      <td>casa_conforto_2</td>\n      <td>5</td>\n    </tr>\n    <tr>\n      <th>71</th>\n      <td>pc_gamer</td>\n      <td>3</td>\n    </tr>\n    <tr>\n      <th>72</th>\n      <td>seguros_e_servicos</td>\n      <td>2</td>\n    </tr>\n    <tr>\n      <th>73</th>\n      <td>cds_dvds_musicais</td>\n      <td>1</td>\n    </tr>\n  </tbody>\n</table>\n<p>74 rows × 2 columns</p>\n</div>"
     },
     "metadata": {},
     "execution_count": 5
    }
   ],
   "source": [
    "products_number_by_category_query = pd.read_sql('SELECT product_category_name, COUNT(product_id) as nombre_produit_par_categorie FROM Products GROUP BY product_category_name ORDER BY nombre_produit_par_categorie DESC', conn)\n",
    "products_number_by_category_query"
   ]
  },
  {
   "source": [
    "Nombre de commandes selon leurs états"
   ],
   "cell_type": "markdown",
   "metadata": {}
  },
  {
   "cell_type": "code",
   "execution_count": 6,
   "metadata": {},
   "outputs": [
    {
     "output_type": "execute_result",
     "data": {
      "text/plain": [
       "  statut_commande  nombre_commandes\n",
       "0       delivered             96478\n",
       "1         shipped              1107\n",
       "2        canceled               625\n",
       "3     unavailable               609\n",
       "4        invoiced               314\n",
       "5      processing               301\n",
       "6         created                 5\n",
       "7        approved                 2"
      ],
      "text/html": "<div>\n<style scoped>\n    .dataframe tbody tr th:only-of-type {\n        vertical-align: middle;\n    }\n\n    .dataframe tbody tr th {\n        vertical-align: top;\n    }\n\n    .dataframe thead th {\n        text-align: right;\n    }\n</style>\n<table border=\"1\" class=\"dataframe\">\n  <thead>\n    <tr style=\"text-align: right;\">\n      <th></th>\n      <th>statut_commande</th>\n      <th>nombre_commandes</th>\n    </tr>\n  </thead>\n  <tbody>\n    <tr>\n      <th>0</th>\n      <td>delivered</td>\n      <td>96478</td>\n    </tr>\n    <tr>\n      <th>1</th>\n      <td>shipped</td>\n      <td>1107</td>\n    </tr>\n    <tr>\n      <th>2</th>\n      <td>canceled</td>\n      <td>625</td>\n    </tr>\n    <tr>\n      <th>3</th>\n      <td>unavailable</td>\n      <td>609</td>\n    </tr>\n    <tr>\n      <th>4</th>\n      <td>invoiced</td>\n      <td>314</td>\n    </tr>\n    <tr>\n      <th>5</th>\n      <td>processing</td>\n      <td>301</td>\n    </tr>\n    <tr>\n      <th>6</th>\n      <td>created</td>\n      <td>5</td>\n    </tr>\n    <tr>\n      <th>7</th>\n      <td>approved</td>\n      <td>2</td>\n    </tr>\n  </tbody>\n</table>\n</div>"
     },
     "metadata": {},
     "execution_count": 6
    }
   ],
   "source": [
    "orders_number_by_status_query = pd.read_sql('SELECT order_status as statut_commande, COUNT(order_id) as nombre_commandes FROM Orders GROUP BY order_status ORDER BY nombre_commandes DESC', conn)\n",
    "orders_number_by_status_query"
   ]
  },
  {
   "source": [
    "Nombre de commandes par mois"
   ],
   "cell_type": "markdown",
   "metadata": {}
  },
  {
   "cell_type": "code",
   "execution_count": 7,
   "metadata": {},
   "outputs": [
    {
     "output_type": "execute_result",
     "data": {
      "text/plain": [
       "    nombre_commandes Month\n",
       "0              10843    08\n",
       "1              10573    05\n",
       "2              10318    07\n",
       "3               9893    03\n",
       "4               9412    06\n",
       "5               9343    04\n",
       "6               8508    02\n",
       "7               8069    01\n",
       "8               7544    11\n",
       "9               5674    12\n",
       "10              4959    10\n",
       "11              4305    09"
      ],
      "text/html": "<div>\n<style scoped>\n    .dataframe tbody tr th:only-of-type {\n        vertical-align: middle;\n    }\n\n    .dataframe tbody tr th {\n        vertical-align: top;\n    }\n\n    .dataframe thead th {\n        text-align: right;\n    }\n</style>\n<table border=\"1\" class=\"dataframe\">\n  <thead>\n    <tr style=\"text-align: right;\">\n      <th></th>\n      <th>nombre_commandes</th>\n      <th>Month</th>\n    </tr>\n  </thead>\n  <tbody>\n    <tr>\n      <th>0</th>\n      <td>10843</td>\n      <td>08</td>\n    </tr>\n    <tr>\n      <th>1</th>\n      <td>10573</td>\n      <td>05</td>\n    </tr>\n    <tr>\n      <th>2</th>\n      <td>10318</td>\n      <td>07</td>\n    </tr>\n    <tr>\n      <th>3</th>\n      <td>9893</td>\n      <td>03</td>\n    </tr>\n    <tr>\n      <th>4</th>\n      <td>9412</td>\n      <td>06</td>\n    </tr>\n    <tr>\n      <th>5</th>\n      <td>9343</td>\n      <td>04</td>\n    </tr>\n    <tr>\n      <th>6</th>\n      <td>8508</td>\n      <td>02</td>\n    </tr>\n    <tr>\n      <th>7</th>\n      <td>8069</td>\n      <td>01</td>\n    </tr>\n    <tr>\n      <th>8</th>\n      <td>7544</td>\n      <td>11</td>\n    </tr>\n    <tr>\n      <th>9</th>\n      <td>5674</td>\n      <td>12</td>\n    </tr>\n    <tr>\n      <th>10</th>\n      <td>4959</td>\n      <td>10</td>\n    </tr>\n    <tr>\n      <th>11</th>\n      <td>4305</td>\n      <td>09</td>\n    </tr>\n  </tbody>\n</table>\n</div>"
     },
     "metadata": {},
     "execution_count": 7
    }
   ],
   "source": [
    "orders_number_by_month_query = pd.read_sql('''SELECT COUNT(order_id) as nombre_commandes, strftime('%m',order_purchase_timestamp) as Month FROM Orders GROUP BY Month ORDER BY nombre_commandes DESC''', conn)\n",
    "orders_number_by_month_query"
   ]
  },
  {
   "source": [
    "Prix moyen d'une commande"
   ],
   "cell_type": "markdown",
   "metadata": {}
  },
  {
   "cell_type": "code",
   "execution_count": 8,
   "metadata": {},
   "outputs": [
    {
     "output_type": "execute_result",
     "data": {
      "text/plain": [
       "   prix_moyen_commande\n",
       "0           160.990267"
      ],
      "text/html": "<div>\n<style scoped>\n    .dataframe tbody tr th:only-of-type {\n        vertical-align: middle;\n    }\n\n    .dataframe tbody tr th {\n        vertical-align: top;\n    }\n\n    .dataframe thead th {\n        text-align: right;\n    }\n</style>\n<table border=\"1\" class=\"dataframe\">\n  <thead>\n    <tr style=\"text-align: right;\">\n      <th></th>\n      <th>prix_moyen_commande</th>\n    </tr>\n  </thead>\n  <tbody>\n    <tr>\n      <th>0</th>\n      <td>160.990267</td>\n    </tr>\n  </tbody>\n</table>\n</div>"
     },
     "metadata": {},
     "execution_count": 8
    }
   ],
   "source": [
    "order_medium_price_query = pd.read_sql('''WITH Commandes AS (SELECT order_id, SUM(payment_value) as prix_total_commande_par_client FROM Orders_payments GROUP BY order_id ORDER BY prix_total_commande_par_client DESC) SELECT AVG(prix_total_commande_par_client) as prix_moyen_commande FROM Commandes''', conn)\n",
    "order_medium_price_query"
   ]
  },
  {
   "source": [
    "Score de satisfaction moyen "
   ],
   "cell_type": "markdown",
   "metadata": {}
  },
  {
   "source": [
    "medium_price_query = pd.read_sql('''SELECT AVG(review_score) as score_moyen FROM Orders_reviews''', conn)\n",
    "medium_price_query"
   ],
   "cell_type": "code",
   "metadata": {},
   "execution_count": 9,
   "outputs": [
    {
     "output_type": "execute_result",
     "data": {
      "text/plain": [
       "   score_moyen\n",
       "0     4.073296"
      ],
      "text/html": "<div>\n<style scoped>\n    .dataframe tbody tr th:only-of-type {\n        vertical-align: middle;\n    }\n\n    .dataframe tbody tr th {\n        vertical-align: top;\n    }\n\n    .dataframe thead th {\n        text-align: right;\n    }\n</style>\n<table border=\"1\" class=\"dataframe\">\n  <thead>\n    <tr style=\"text-align: right;\">\n      <th></th>\n      <th>score_moyen</th>\n    </tr>\n  </thead>\n  <tbody>\n    <tr>\n      <th>0</th>\n      <td>4.073296</td>\n    </tr>\n  </tbody>\n</table>\n</div>"
     },
     "metadata": {},
     "execution_count": 9
    }
   ]
  },
  {
   "source": [
    "Nombre de vendeurs"
   ],
   "cell_type": "markdown",
   "metadata": {}
  },
  {
   "cell_type": "code",
   "execution_count": 10,
   "metadata": {},
   "outputs": [
    {
     "output_type": "execute_result",
     "data": {
      "text/plain": [
       "   nombre_vendeurs\n",
       "0             3095"
      ],
      "text/html": "<div>\n<style scoped>\n    .dataframe tbody tr th:only-of-type {\n        vertical-align: middle;\n    }\n\n    .dataframe tbody tr th {\n        vertical-align: top;\n    }\n\n    .dataframe thead th {\n        text-align: right;\n    }\n</style>\n<table border=\"1\" class=\"dataframe\">\n  <thead>\n    <tr style=\"text-align: right;\">\n      <th></th>\n      <th>nombre_vendeurs</th>\n    </tr>\n  </thead>\n  <tbody>\n    <tr>\n      <th>0</th>\n      <td>3095</td>\n    </tr>\n  </tbody>\n</table>\n</div>"
     },
     "metadata": {},
     "execution_count": 10
    }
   ],
   "source": [
    "sellers_number_query = pd.read_sql('''SELECT COUNT(seller_id) as nombre_vendeurs FROM Sellers''', conn)\n",
    "sellers_number_query"
   ]
  },
  {
   "source": [
    "Nombre de vendeurs par région"
   ],
   "cell_type": "markdown",
   "metadata": {}
  },
  {
   "cell_type": "code",
   "execution_count": 11,
   "metadata": {},
   "outputs": [
    {
     "output_type": "execute_result",
     "data": {
      "text/plain": [
       "   seller_state  vendeurs_par_region\n",
       "0            SP                 1849\n",
       "1            PR                  349\n",
       "2            MG                  244\n",
       "3            SC                  190\n",
       "4            RJ                  171\n",
       "5            RS                  129\n",
       "6            GO                   40\n",
       "7            DF                   30\n",
       "8            ES                   23\n",
       "9            BA                   19\n",
       "10           CE                   13\n",
       "11           PE                    9\n",
       "12           PB                    6\n",
       "13           RN                    5\n",
       "14           MS                    5\n",
       "15           MT                    4\n",
       "16           SE                    2\n",
       "17           RO                    2\n",
       "18           PI                    1\n",
       "19           PA                    1\n",
       "20           MA                    1\n",
       "21           AM                    1\n",
       "22           AC                    1"
      ],
      "text/html": "<div>\n<style scoped>\n    .dataframe tbody tr th:only-of-type {\n        vertical-align: middle;\n    }\n\n    .dataframe tbody tr th {\n        vertical-align: top;\n    }\n\n    .dataframe thead th {\n        text-align: right;\n    }\n</style>\n<table border=\"1\" class=\"dataframe\">\n  <thead>\n    <tr style=\"text-align: right;\">\n      <th></th>\n      <th>seller_state</th>\n      <th>vendeurs_par_region</th>\n    </tr>\n  </thead>\n  <tbody>\n    <tr>\n      <th>0</th>\n      <td>SP</td>\n      <td>1849</td>\n    </tr>\n    <tr>\n      <th>1</th>\n      <td>PR</td>\n      <td>349</td>\n    </tr>\n    <tr>\n      <th>2</th>\n      <td>MG</td>\n      <td>244</td>\n    </tr>\n    <tr>\n      <th>3</th>\n      <td>SC</td>\n      <td>190</td>\n    </tr>\n    <tr>\n      <th>4</th>\n      <td>RJ</td>\n      <td>171</td>\n    </tr>\n    <tr>\n      <th>5</th>\n      <td>RS</td>\n      <td>129</td>\n    </tr>\n    <tr>\n      <th>6</th>\n      <td>GO</td>\n      <td>40</td>\n    </tr>\n    <tr>\n      <th>7</th>\n      <td>DF</td>\n      <td>30</td>\n    </tr>\n    <tr>\n      <th>8</th>\n      <td>ES</td>\n      <td>23</td>\n    </tr>\n    <tr>\n      <th>9</th>\n      <td>BA</td>\n      <td>19</td>\n    </tr>\n    <tr>\n      <th>10</th>\n      <td>CE</td>\n      <td>13</td>\n    </tr>\n    <tr>\n      <th>11</th>\n      <td>PE</td>\n      <td>9</td>\n    </tr>\n    <tr>\n      <th>12</th>\n      <td>PB</td>\n      <td>6</td>\n    </tr>\n    <tr>\n      <th>13</th>\n      <td>RN</td>\n      <td>5</td>\n    </tr>\n    <tr>\n      <th>14</th>\n      <td>MS</td>\n      <td>5</td>\n    </tr>\n    <tr>\n      <th>15</th>\n      <td>MT</td>\n      <td>4</td>\n    </tr>\n    <tr>\n      <th>16</th>\n      <td>SE</td>\n      <td>2</td>\n    </tr>\n    <tr>\n      <th>17</th>\n      <td>RO</td>\n      <td>2</td>\n    </tr>\n    <tr>\n      <th>18</th>\n      <td>PI</td>\n      <td>1</td>\n    </tr>\n    <tr>\n      <th>19</th>\n      <td>PA</td>\n      <td>1</td>\n    </tr>\n    <tr>\n      <th>20</th>\n      <td>MA</td>\n      <td>1</td>\n    </tr>\n    <tr>\n      <th>21</th>\n      <td>AM</td>\n      <td>1</td>\n    </tr>\n    <tr>\n      <th>22</th>\n      <td>AC</td>\n      <td>1</td>\n    </tr>\n  </tbody>\n</table>\n</div>"
     },
     "metadata": {},
     "execution_count": 11
    }
   ],
   "source": [
    "sellers_number_by_state_query = pd.read_sql('''SELECT seller_state, COUNT(seller_id) as vendeurs_par_region FROM Sellers GROUP BY seller_state ORDER BY vendeurs_par_region DESC''', conn)\n",
    "sellers_number_by_state_query"
   ]
  },
  {
   "source": [
    "Quantité de produits vendus par catégorie"
   ],
   "cell_type": "markdown",
   "metadata": {}
  },
  {
   "cell_type": "code",
   "execution_count": 12,
   "metadata": {},
   "outputs": [
    {
     "output_type": "execute_result",
     "data": {
      "text/plain": [
       "                Categorie_produit  Nombre_commandes\n",
       "0                 cama_mesa_banho             11115\n",
       "1                    beleza_saude              9670\n",
       "2                   esporte_lazer              8641\n",
       "3                moveis_decoracao              8334\n",
       "4          informatica_acessorios              7827\n",
       "..                            ...               ...\n",
       "69                     la_cuisine                14\n",
       "70              cds_dvds_musicais                14\n",
       "71                       pc_gamer                 9\n",
       "72  fashion_roupa_infanto_juvenil                 8\n",
       "73             seguros_e_servicos                 2\n",
       "\n",
       "[74 rows x 2 columns]"
      ],
      "text/html": "<div>\n<style scoped>\n    .dataframe tbody tr th:only-of-type {\n        vertical-align: middle;\n    }\n\n    .dataframe tbody tr th {\n        vertical-align: top;\n    }\n\n    .dataframe thead th {\n        text-align: right;\n    }\n</style>\n<table border=\"1\" class=\"dataframe\">\n  <thead>\n    <tr style=\"text-align: right;\">\n      <th></th>\n      <th>Categorie_produit</th>\n      <th>Nombre_commandes</th>\n    </tr>\n  </thead>\n  <tbody>\n    <tr>\n      <th>0</th>\n      <td>cama_mesa_banho</td>\n      <td>11115</td>\n    </tr>\n    <tr>\n      <th>1</th>\n      <td>beleza_saude</td>\n      <td>9670</td>\n    </tr>\n    <tr>\n      <th>2</th>\n      <td>esporte_lazer</td>\n      <td>8641</td>\n    </tr>\n    <tr>\n      <th>3</th>\n      <td>moveis_decoracao</td>\n      <td>8334</td>\n    </tr>\n    <tr>\n      <th>4</th>\n      <td>informatica_acessorios</td>\n      <td>7827</td>\n    </tr>\n    <tr>\n      <th>...</th>\n      <td>...</td>\n      <td>...</td>\n    </tr>\n    <tr>\n      <th>69</th>\n      <td>la_cuisine</td>\n      <td>14</td>\n    </tr>\n    <tr>\n      <th>70</th>\n      <td>cds_dvds_musicais</td>\n      <td>14</td>\n    </tr>\n    <tr>\n      <th>71</th>\n      <td>pc_gamer</td>\n      <td>9</td>\n    </tr>\n    <tr>\n      <th>72</th>\n      <td>fashion_roupa_infanto_juvenil</td>\n      <td>8</td>\n    </tr>\n    <tr>\n      <th>73</th>\n      <td>seguros_e_servicos</td>\n      <td>2</td>\n    </tr>\n  </tbody>\n</table>\n<p>74 rows × 2 columns</p>\n</div>"
     },
     "metadata": {},
     "execution_count": 12
    }
   ],
   "source": [
    "sold_products_by_category_query = pd.read_sql('''SELECT p.product_category_name as Categorie_produit, COUNT(o.order_id) as Nombre_commandes FROM Orders_items as o INNER JOIN Products as p ON o.product_id = p.product_id GROUP BY p.product_category_name ORDER BY Nombre_commandes DESC''', conn)\n",
    "sold_products_by_category_query"
   ]
  },
  {
   "source": [
    "Nombre de commandes par jour (méthode 1 : selon le jour de la semaine où 'Dimanche' = 0)"
   ],
   "cell_type": "markdown",
   "metadata": {}
  },
  {
   "cell_type": "code",
   "execution_count": 13,
   "metadata": {},
   "outputs": [
    {
     "output_type": "execute_result",
     "data": {
      "text/plain": [
       "   nombre_commandes Day_of_Week\n",
       "0             16196           1\n",
       "1             15963           2\n",
       "2             15552           3\n",
       "3             14761           4\n",
       "4             14122           5\n",
       "5             11960           0\n",
       "6             10887           6"
      ],
      "text/html": "<div>\n<style scoped>\n    .dataframe tbody tr th:only-of-type {\n        vertical-align: middle;\n    }\n\n    .dataframe tbody tr th {\n        vertical-align: top;\n    }\n\n    .dataframe thead th {\n        text-align: right;\n    }\n</style>\n<table border=\"1\" class=\"dataframe\">\n  <thead>\n    <tr style=\"text-align: right;\">\n      <th></th>\n      <th>nombre_commandes</th>\n      <th>Day_of_Week</th>\n    </tr>\n  </thead>\n  <tbody>\n    <tr>\n      <th>0</th>\n      <td>16196</td>\n      <td>1</td>\n    </tr>\n    <tr>\n      <th>1</th>\n      <td>15963</td>\n      <td>2</td>\n    </tr>\n    <tr>\n      <th>2</th>\n      <td>15552</td>\n      <td>3</td>\n    </tr>\n    <tr>\n      <th>3</th>\n      <td>14761</td>\n      <td>4</td>\n    </tr>\n    <tr>\n      <th>4</th>\n      <td>14122</td>\n      <td>5</td>\n    </tr>\n    <tr>\n      <th>5</th>\n      <td>11960</td>\n      <td>0</td>\n    </tr>\n    <tr>\n      <th>6</th>\n      <td>10887</td>\n      <td>6</td>\n    </tr>\n  </tbody>\n</table>\n</div>"
     },
     "metadata": {},
     "execution_count": 13
    }
   ],
   "source": [
    "orders_number_by_day_query1 = pd.read_sql('''SELECT COUNT(order_id) as nombre_commandes, strftime('%w',order_purchase_timestamp) as Day_of_Week FROM Orders GROUP BY Day_of_Week ORDER BY nombre_commandes DESC''', conn)\n",
    "orders_number_by_day_query1"
   ]
  },
  {
   "source": [
    "Nombre de commandes par jour (méthode 2 : selon le jour du mois)"
   ],
   "cell_type": "markdown",
   "metadata": {}
  },
  {
   "cell_type": "code",
   "execution_count": 14,
   "metadata": {},
   "outputs": [
    {
     "output_type": "execute_result",
     "data": {
      "text/plain": [
       "    nombre_commandes Day_of_Month\n",
       "0               3877           24\n",
       "1               3581           16\n",
       "2               3524           15\n",
       "3               3483           04\n",
       "4               3468           06\n",
       "5               3445           05\n",
       "6               3430           18\n",
       "7               3387           14\n",
       "8               3364           19\n",
       "9               3363           07\n",
       "10              3326           08\n",
       "11              3308           11\n",
       "12              3290           26\n",
       "13              3290           25\n",
       "14              3283           03\n",
       "15              3277           13\n",
       "16              3271           09\n",
       "17              3261           20\n",
       "18              3213           02\n",
       "19              3202           12\n",
       "20              3200           17\n",
       "21              3181           22\n",
       "22              3168           10\n",
       "23              3128           23\n",
       "24              3122           27\n",
       "25              3116           21\n",
       "26              3101           01\n",
       "27              3011           28\n",
       "28              2557           29\n",
       "29              2534           30\n",
       "30              1680           31"
      ],
      "text/html": "<div>\n<style scoped>\n    .dataframe tbody tr th:only-of-type {\n        vertical-align: middle;\n    }\n\n    .dataframe tbody tr th {\n        vertical-align: top;\n    }\n\n    .dataframe thead th {\n        text-align: right;\n    }\n</style>\n<table border=\"1\" class=\"dataframe\">\n  <thead>\n    <tr style=\"text-align: right;\">\n      <th></th>\n      <th>nombre_commandes</th>\n      <th>Day_of_Month</th>\n    </tr>\n  </thead>\n  <tbody>\n    <tr>\n      <th>0</th>\n      <td>3877</td>\n      <td>24</td>\n    </tr>\n    <tr>\n      <th>1</th>\n      <td>3581</td>\n      <td>16</td>\n    </tr>\n    <tr>\n      <th>2</th>\n      <td>3524</td>\n      <td>15</td>\n    </tr>\n    <tr>\n      <th>3</th>\n      <td>3483</td>\n      <td>04</td>\n    </tr>\n    <tr>\n      <th>4</th>\n      <td>3468</td>\n      <td>06</td>\n    </tr>\n    <tr>\n      <th>5</th>\n      <td>3445</td>\n      <td>05</td>\n    </tr>\n    <tr>\n      <th>6</th>\n      <td>3430</td>\n      <td>18</td>\n    </tr>\n    <tr>\n      <th>7</th>\n      <td>3387</td>\n      <td>14</td>\n    </tr>\n    <tr>\n      <th>8</th>\n      <td>3364</td>\n      <td>19</td>\n    </tr>\n    <tr>\n      <th>9</th>\n      <td>3363</td>\n      <td>07</td>\n    </tr>\n    <tr>\n      <th>10</th>\n      <td>3326</td>\n      <td>08</td>\n    </tr>\n    <tr>\n      <th>11</th>\n      <td>3308</td>\n      <td>11</td>\n    </tr>\n    <tr>\n      <th>12</th>\n      <td>3290</td>\n      <td>26</td>\n    </tr>\n    <tr>\n      <th>13</th>\n      <td>3290</td>\n      <td>25</td>\n    </tr>\n    <tr>\n      <th>14</th>\n      <td>3283</td>\n      <td>03</td>\n    </tr>\n    <tr>\n      <th>15</th>\n      <td>3277</td>\n      <td>13</td>\n    </tr>\n    <tr>\n      <th>16</th>\n      <td>3271</td>\n      <td>09</td>\n    </tr>\n    <tr>\n      <th>17</th>\n      <td>3261</td>\n      <td>20</td>\n    </tr>\n    <tr>\n      <th>18</th>\n      <td>3213</td>\n      <td>02</td>\n    </tr>\n    <tr>\n      <th>19</th>\n      <td>3202</td>\n      <td>12</td>\n    </tr>\n    <tr>\n      <th>20</th>\n      <td>3200</td>\n      <td>17</td>\n    </tr>\n    <tr>\n      <th>21</th>\n      <td>3181</td>\n      <td>22</td>\n    </tr>\n    <tr>\n      <th>22</th>\n      <td>3168</td>\n      <td>10</td>\n    </tr>\n    <tr>\n      <th>23</th>\n      <td>3128</td>\n      <td>23</td>\n    </tr>\n    <tr>\n      <th>24</th>\n      <td>3122</td>\n      <td>27</td>\n    </tr>\n    <tr>\n      <th>25</th>\n      <td>3116</td>\n      <td>21</td>\n    </tr>\n    <tr>\n      <th>26</th>\n      <td>3101</td>\n      <td>01</td>\n    </tr>\n    <tr>\n      <th>27</th>\n      <td>3011</td>\n      <td>28</td>\n    </tr>\n    <tr>\n      <th>28</th>\n      <td>2557</td>\n      <td>29</td>\n    </tr>\n    <tr>\n      <th>29</th>\n      <td>2534</td>\n      <td>30</td>\n    </tr>\n    <tr>\n      <th>30</th>\n      <td>1680</td>\n      <td>31</td>\n    </tr>\n  </tbody>\n</table>\n</div>"
     },
     "metadata": {},
     "execution_count": 14
    }
   ],
   "source": [
    "orders_number_by_day_query2 = pd.read_sql('''SELECT COUNT(order_id) as nombre_commandes, strftime('%d',order_purchase_timestamp) as Day_of_Month FROM Orders GROUP BY Day_of_Month ORDER BY nombre_commandes DESC''', conn)\n",
    "orders_number_by_day_query2"
   ]
  },
  {
   "source": [
    "Durée moyenne entre la commande et la livraison"
   ],
   "cell_type": "markdown",
   "metadata": {}
  },
  {
   "cell_type": "code",
   "execution_count": 15,
   "metadata": {},
   "outputs": [
    {
     "output_type": "execute_result",
     "data": {
      "text/plain": [
       "   duree_livraison_en_jours\n",
       "0                 12.558702"
      ],
      "text/html": "<div>\n<style scoped>\n    .dataframe tbody tr th:only-of-type {\n        vertical-align: middle;\n    }\n\n    .dataframe tbody tr th {\n        vertical-align: top;\n    }\n\n    .dataframe thead th {\n        text-align: right;\n    }\n</style>\n<table border=\"1\" class=\"dataframe\">\n  <thead>\n    <tr style=\"text-align: right;\">\n      <th></th>\n      <th>duree_livraison_en_jours</th>\n    </tr>\n  </thead>\n  <tbody>\n    <tr>\n      <th>0</th>\n      <td>12.558702</td>\n    </tr>\n  </tbody>\n</table>\n</div>"
     },
     "metadata": {},
     "execution_count": 15
    }
   ],
   "source": [
    "delivered_order_medium_time_query = pd.read_sql('''SELECT AVG(julianday(order_delivered_customer_date) - julianday(order_purchase_timestamp)) as duree_livraison_en_jours FROM Orders ''', conn)\n",
    "delivered_order_medium_time_query"
   ]
  },
  {
   "source": [
    "Nombre de commandes par ville du vendeur"
   ],
   "cell_type": "markdown",
   "metadata": {}
  },
  {
   "cell_type": "code",
   "execution_count": 16,
   "metadata": {},
   "outputs": [
    {
     "output_type": "execute_result",
     "data": {
      "text/plain": [
       "         Ville_vendeur  Nombre_commandes\n",
       "0            sao paulo             27983\n",
       "1             ibitinga              7750\n",
       "2             curitiba              3016\n",
       "3          santo andre              2964\n",
       "4       belo horizonte              2593\n",
       "..                 ...               ...\n",
       "606           araquari                 1\n",
       "607  angra dos reis rj                 1\n",
       "608    aguas claras df                 1\n",
       "609    abadia de goias                 1\n",
       "610           04482255                 1\n",
       "\n",
       "[611 rows x 2 columns]"
      ],
      "text/html": "<div>\n<style scoped>\n    .dataframe tbody tr th:only-of-type {\n        vertical-align: middle;\n    }\n\n    .dataframe tbody tr th {\n        vertical-align: top;\n    }\n\n    .dataframe thead th {\n        text-align: right;\n    }\n</style>\n<table border=\"1\" class=\"dataframe\">\n  <thead>\n    <tr style=\"text-align: right;\">\n      <th></th>\n      <th>Ville_vendeur</th>\n      <th>Nombre_commandes</th>\n    </tr>\n  </thead>\n  <tbody>\n    <tr>\n      <th>0</th>\n      <td>sao paulo</td>\n      <td>27983</td>\n    </tr>\n    <tr>\n      <th>1</th>\n      <td>ibitinga</td>\n      <td>7750</td>\n    </tr>\n    <tr>\n      <th>2</th>\n      <td>curitiba</td>\n      <td>3016</td>\n    </tr>\n    <tr>\n      <th>3</th>\n      <td>santo andre</td>\n      <td>2964</td>\n    </tr>\n    <tr>\n      <th>4</th>\n      <td>belo horizonte</td>\n      <td>2593</td>\n    </tr>\n    <tr>\n      <th>...</th>\n      <td>...</td>\n      <td>...</td>\n    </tr>\n    <tr>\n      <th>606</th>\n      <td>araquari</td>\n      <td>1</td>\n    </tr>\n    <tr>\n      <th>607</th>\n      <td>angra dos reis rj</td>\n      <td>1</td>\n    </tr>\n    <tr>\n      <th>608</th>\n      <td>aguas claras df</td>\n      <td>1</td>\n    </tr>\n    <tr>\n      <th>609</th>\n      <td>abadia de goias</td>\n      <td>1</td>\n    </tr>\n    <tr>\n      <th>610</th>\n      <td>04482255</td>\n      <td>1</td>\n    </tr>\n  </tbody>\n</table>\n<p>611 rows × 2 columns</p>\n</div>"
     },
     "metadata": {},
     "execution_count": 16
    }
   ],
   "source": [
    "orders_number_by_city_query = pd.read_sql('''SELECT s.seller_city as Ville_vendeur, COUNT(o.order_id) as Nombre_commandes FROM Orders_items as o INNER JOIN Sellers as s ON o.seller_id = s.seller_id GROUP BY Ville_vendeur ORDER BY Nombre_commandes DESC''', conn)\n",
    "orders_number_by_city_query"
   ]
  },
  {
   "source": [
    "Prix minimum des commandes"
   ],
   "cell_type": "markdown",
   "metadata": {}
  },
  {
   "cell_type": "code",
   "execution_count": 17,
   "metadata": {},
   "outputs": [
    {
     "output_type": "execute_result",
     "data": {
      "text/plain": [
       "   prix_minimum_commandes\n",
       "0                     0.0"
      ],
      "text/html": "<div>\n<style scoped>\n    .dataframe tbody tr th:only-of-type {\n        vertical-align: middle;\n    }\n\n    .dataframe tbody tr th {\n        vertical-align: top;\n    }\n\n    .dataframe thead th {\n        text-align: right;\n    }\n</style>\n<table border=\"1\" class=\"dataframe\">\n  <thead>\n    <tr style=\"text-align: right;\">\n      <th></th>\n      <th>prix_minimum_commandes</th>\n    </tr>\n  </thead>\n  <tbody>\n    <tr>\n      <th>0</th>\n      <td>0.0</td>\n    </tr>\n  </tbody>\n</table>\n</div>"
     },
     "metadata": {},
     "execution_count": 17
    }
   ],
   "source": [
    "orders_minimum_price_query = pd.read_sql('''WITH Commandes AS (SELECT order_id, SUM(payment_value) as prix_total_commande_par_client FROM Orders_payments GROUP BY order_id ORDER BY prix_total_commande_par_client DESC) SELECT MIN(prix_total_commande_par_client) as prix_minimum_commandes FROM Commandes''', conn)\n",
    "orders_minimum_price_query"
   ]
  },
  {
   "source": [
    "Prix maximum des commandes"
   ],
   "cell_type": "markdown",
   "metadata": {}
  },
  {
   "cell_type": "code",
   "execution_count": 18,
   "metadata": {},
   "outputs": [
    {
     "output_type": "execute_result",
     "data": {
      "text/plain": [
       "   prix_minimum_commandes\n",
       "0                13664.08"
      ],
      "text/html": "<div>\n<style scoped>\n    .dataframe tbody tr th:only-of-type {\n        vertical-align: middle;\n    }\n\n    .dataframe tbody tr th {\n        vertical-align: top;\n    }\n\n    .dataframe thead th {\n        text-align: right;\n    }\n</style>\n<table border=\"1\" class=\"dataframe\">\n  <thead>\n    <tr style=\"text-align: right;\">\n      <th></th>\n      <th>prix_minimum_commandes</th>\n    </tr>\n  </thead>\n  <tbody>\n    <tr>\n      <th>0</th>\n      <td>13664.08</td>\n    </tr>\n  </tbody>\n</table>\n</div>"
     },
     "metadata": {},
     "execution_count": 18
    }
   ],
   "source": [
    "orders_maximum_price_query = pd.read_sql('''WITH Commandes AS (SELECT order_id, SUM(payment_value) as prix_total_commande_par_client FROM Orders_payments GROUP BY order_id ORDER BY prix_total_commande_par_client DESC) SELECT MAX(prix_total_commande_par_client) as prix_minimum_commandes FROM Commandes''', conn)\n",
    "orders_maximum_price_query"
   ]
  },
  {
   "source": [
    "Temps moyen d'une livraison par mois"
   ],
   "cell_type": "markdown",
   "metadata": {}
  },
  {
   "cell_type": "code",
   "execution_count": 19,
   "metadata": {},
   "outputs": [
    {
     "output_type": "execute_result",
     "data": {
      "text/plain": [
       "   Month  duree_livraison_par_mois_en_jours\n",
       "0     01                          13.943059\n",
       "1     02                          16.186325\n",
       "2     03                          15.408157\n",
       "3     04                          12.364333\n",
       "4     05                          11.385740\n",
       "5     06                          10.180754\n",
       "6     07                           9.975710\n",
       "7     08                           9.090552\n",
       "8     09                          11.861356\n",
       "9     10                          12.295812\n",
       "10    11                          15.161132\n",
       "11    12                          15.392978"
      ],
      "text/html": "<div>\n<style scoped>\n    .dataframe tbody tr th:only-of-type {\n        vertical-align: middle;\n    }\n\n    .dataframe tbody tr th {\n        vertical-align: top;\n    }\n\n    .dataframe thead th {\n        text-align: right;\n    }\n</style>\n<table border=\"1\" class=\"dataframe\">\n  <thead>\n    <tr style=\"text-align: right;\">\n      <th></th>\n      <th>Month</th>\n      <th>duree_livraison_par_mois_en_jours</th>\n    </tr>\n  </thead>\n  <tbody>\n    <tr>\n      <th>0</th>\n      <td>01</td>\n      <td>13.943059</td>\n    </tr>\n    <tr>\n      <th>1</th>\n      <td>02</td>\n      <td>16.186325</td>\n    </tr>\n    <tr>\n      <th>2</th>\n      <td>03</td>\n      <td>15.408157</td>\n    </tr>\n    <tr>\n      <th>3</th>\n      <td>04</td>\n      <td>12.364333</td>\n    </tr>\n    <tr>\n      <th>4</th>\n      <td>05</td>\n      <td>11.385740</td>\n    </tr>\n    <tr>\n      <th>5</th>\n      <td>06</td>\n      <td>10.180754</td>\n    </tr>\n    <tr>\n      <th>6</th>\n      <td>07</td>\n      <td>9.975710</td>\n    </tr>\n    <tr>\n      <th>7</th>\n      <td>08</td>\n      <td>9.090552</td>\n    </tr>\n    <tr>\n      <th>8</th>\n      <td>09</td>\n      <td>11.861356</td>\n    </tr>\n    <tr>\n      <th>9</th>\n      <td>10</td>\n      <td>12.295812</td>\n    </tr>\n    <tr>\n      <th>10</th>\n      <td>11</td>\n      <td>15.161132</td>\n    </tr>\n    <tr>\n      <th>11</th>\n      <td>12</td>\n      <td>15.392978</td>\n    </tr>\n  </tbody>\n</table>\n</div>"
     },
     "metadata": {},
     "execution_count": 19
    }
   ],
   "source": [
    "delivery_medium_time_by_month_query = pd.read_sql('''SELECT strftime('%m',order_purchase_timestamp) as Month, AVG(julianday(order_delivered_customer_date) - julianday(order_purchase_timestamp)) as duree_livraison_par_mois_en_jours FROM Orders GROUP BY Month ''', conn)\n",
    "delivery_medium_time_by_month_query"
   ]
  }
 ]
}